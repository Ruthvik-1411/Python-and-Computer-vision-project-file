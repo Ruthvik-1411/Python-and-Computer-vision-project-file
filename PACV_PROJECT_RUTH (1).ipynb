{
  "nbformat": 4,
  "nbformat_minor": 0,
  "metadata": {
    "colab": {
      "name": "PACV PROJECT RUTH",
      "provenance": []
    },
    "kernelspec": {
      "name": "python3",
      "display_name": "Python 3"
    },
    "language_info": {
      "name": "python"
    }
  },
  "cells": [
    {
      "cell_type": "code",
      "metadata": {
        "colab": {
          "base_uri": "https://localhost:8080/"
        },
        "id": "QWk0hU6HhUeF",
        "outputId": "af3a9193-8275-4923-ab0e-1f1eff0f2779"
      },
      "source": [
        "!git clone https://github.com/keras-team/keras-tuner.git\n",
        "!pip install keras-tuner\n",
        "import tensorflow as tf\n",
        "from tensorflow import keras\n",
        "import numpy as np\n",
        "\n",
        "fashion_mnist = keras.datasets.fashion_mnist\n",
        "(train_images, train_labels), (test_images, test_labels) = fashion_mnist.load_data()\n",
        "\n",
        "train_images = train_images / 255.0\n",
        "test_images = test_images / 255.0\n",
        "\n",
        "train_images = train_images.reshape(len(train_images), 28, 28, 1)\n",
        "test_images = test_images.reshape(len(test_images), 28, 28, 1)\n",
        "\n",
        "def build_model(hp):  \n",
        "  model = keras.Sequential([\n",
        "    keras.layers.Conv2D(\n",
        "        filters=hp.Int('conv_1_filter', min_value=64, max_value=128, step=16),\n",
        "        kernel_size=hp.Choice('conv_1_kernel', values = [3,5]),\n",
        "        activation='relu',\n",
        "        input_shape=(28,28,1)\n",
        "    ),\n",
        "    keras.layers.Conv2D(\n",
        "        filters=hp.Int('conv_2_filter', min_value=32, max_value=64, step=16),\n",
        "        kernel_size=hp.Choice('conv_2_kernel', values = [3,5]),\n",
        "        activation='relu'\n",
        "    ),\n",
        "    keras.layers.Flatten(),\n",
        "    keras.layers.Dense(\n",
        "        units=hp.Int('dense_1_units', min_value=32, max_value=128, step=16),\n",
        "        activation='relu'\n",
        "    ),\n",
        "    keras.layers.Dense(10, activation='softmax')\n",
        "  ])\n",
        "  \n",
        "  model.compile(optimizer=keras.optimizers.Adam(hp.Choice('learning_rate', values=[1e-2, 1e-3])),\n",
        "              loss='sparse_categorical_crossentropy',\n",
        "              metrics=['accuracy'])\n",
        "  return model\n",
        "\n",
        "from kerastuner.tuners import RandomSearch\n",
        "\n",
        "tuner = RandomSearch(\n",
        "    build_model,\n",
        "    objective='val_accuracy',\n",
        "    max_trials=5,\n",
        "    directory='output',\n",
        "    project_name='FashionMNIST')\n",
        "\n",
        "tuner.search(train_images, train_labels, epochs=2, validation_split=0.1)\n",
        "model = tuner.get_best_models(num_models=1)[0]\n",
        "model.fit(train_images, train_labels, epochs=10, validation_split=0.1, initial_epoch=2)\n",
        "\n",
        "model.summary()\n",
        "\n"
      ],
      "execution_count": null,
      "outputs": [
        {
          "output_type": "stream",
          "text": [
            "Trial 5 Complete [00h 14m 44s]\n",
            "val_accuracy: 0.9073333144187927\n",
            "\n",
            "Best val_accuracy So Far: 0.9129999876022339\n",
            "Total elapsed time: 00h 50m 53s\n",
            "INFO:tensorflow:Oracle triggered exit\n",
            "Epoch 3/10\n",
            "1688/1688 [==============================] - 301s 178ms/step - loss: 0.1631 - accuracy: 0.9392 - val_loss: 0.2660 - val_accuracy: 0.9075\n",
            "Epoch 4/10\n",
            "1688/1688 [==============================] - 304s 180ms/step - loss: 0.1122 - accuracy: 0.9578 - val_loss: 0.2741 - val_accuracy: 0.9163\n",
            "Epoch 5/10\n",
            "1688/1688 [==============================] - 299s 177ms/step - loss: 0.0722 - accuracy: 0.9729 - val_loss: 0.3276 - val_accuracy: 0.9130\n",
            "Epoch 6/10\n",
            "1688/1688 [==============================] - 314s 186ms/step - loss: 0.0486 - accuracy: 0.9825 - val_loss: 0.3851 - val_accuracy: 0.9127\n",
            "Epoch 7/10\n",
            "1688/1688 [==============================] - 304s 180ms/step - loss: 0.0334 - accuracy: 0.9879 - val_loss: 0.5097 - val_accuracy: 0.9087\n",
            "Epoch 8/10\n",
            "1688/1688 [==============================] - 295s 175ms/step - loss: 0.0244 - accuracy: 0.9920 - val_loss: 0.5451 - val_accuracy: 0.9097\n",
            "Epoch 9/10\n",
            "1688/1688 [==============================] - 315s 187ms/step - loss: 0.0224 - accuracy: 0.9923 - val_loss: 0.5406 - val_accuracy: 0.9117\n",
            "Epoch 10/10\n",
            "1688/1688 [==============================] - 336s 199ms/step - loss: 0.0178 - accuracy: 0.9937 - val_loss: 0.5361 - val_accuracy: 0.9148\n",
            "Model: \"sequential\"\n",
            "_________________________________________________________________\n",
            "Layer (type)                 Output Shape              Param #   \n",
            "=================================================================\n",
            "conv2d (Conv2D)              (None, 26, 26, 96)        960       \n",
            "_________________________________________________________________\n",
            "conv2d_1 (Conv2D)            (None, 24, 24, 48)        41520     \n",
            "_________________________________________________________________\n",
            "flatten (Flatten)            (None, 27648)             0         \n",
            "_________________________________________________________________\n",
            "dense (Dense)                (None, 112)               3096688   \n",
            "_________________________________________________________________\n",
            "dense_1 (Dense)              (None, 10)                1130      \n",
            "=================================================================\n",
            "Total params: 3,140,298\n",
            "Trainable params: 3,140,298\n",
            "Non-trainable params: 0\n",
            "_________________________________________________________________\n"
          ],
          "name": "stdout"
        }
      ]
    }
  ]
}